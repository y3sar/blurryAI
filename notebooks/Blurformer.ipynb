{
 "cells": [
  {
   "cell_type": "code",
   "execution_count": null,
   "id": "bae6c92d",
   "metadata": {},
   "outputs": [],
   "source": [
    "from torchvision.models.detection import maskrcnn_resnet50_fpn_v2, MaskRCNN_ResNet50_FPN_V2_Weights\n",
    "import torch\n",
    "import torch.nn as nn\n",
    "import torchvision.transforms as T\n",
    "from torchvision.io import read_image"
   ]
  },
  {
   "cell_type": "code",
   "execution_count": null,
   "id": "e1616dce",
   "metadata": {},
   "outputs": [],
   "source": [
    "\n",
    "weights = MaskRCNN_ResNet50_FPN_V2_Weights.COCO_V1\n",
    "transforms = weights.transforms()\n",
    "model = maskrcnn_resnet50_fpn_v2(weights=weights)\n",
    "model = model.eval();"
   ]
  },
  {
   "cell_type": "code",
   "execution_count": null,
   "id": "b4559f67",
   "metadata": {},
   "outputs": [],
   "source": [
    "from PIL import Image\n",
    "import numpy as np\n",
    "\n",
    "input_image = Image.open('exampleimg.jpg')\n",
    "dp = read_image('exampleimg.jpg')\n",
    "p_tensor = T.ToTensor()(input_image)\n",
    "# display(input_image)\n",
    "np_img = torch.tensor(np.asarray(input_image)).unsqueeze(0)\n",
    "np_img =  np_img.permute(0, 3, 1, 2)"
   ]
  },
  {
   "cell_type": "code",
   "execution_count": null,
   "id": "3170691f",
   "metadata": {},
   "outputs": [],
   "source": [
    "input_tensor = transforms(input_image).unsqueeze(0)\n",
    "input_tensor.shape"
   ]
  },
  {
   "cell_type": "code",
   "execution_count": null,
   "id": "71dd117a",
   "metadata": {},
   "outputs": [],
   "source": [
    "output = model(input_tensor)\n",
    "output"
   ]
  },
  {
   "cell_type": "code",
   "execution_count": null,
   "id": "24bf9a03",
   "metadata": {},
   "outputs": [],
   "source": [
    "score_threshold = 0.75\n",
    "mask_threshold = 0.5\n",
    "masks = output[0]['masks'][output[0]['scores'] > score_threshold] > mask_threshold;\n",
    "pred_labels = [weights.meta[\"categories\"][label] for label in output[0]['labels'][output[0]['scores'] > score_threshold]]\n",
    "pred_label_unq = [pred_labels[i] + str(pred_labels[:i].count(pred_labels[i]) + 1) for i in range(len(pred_labels))]\n",
    "\n",
    "\n",
    "\n",
    "masks = masks.squeeze(1)\n",
    "print(pred_label_unq)"
   ]
  },
  {
   "cell_type": "code",
   "execution_count": null,
   "id": "e10f0865",
   "metadata": {},
   "outputs": [],
   "source": [
    "from torchvision.utils import draw_segmentation_masks\n",
    "import random\n",
    "\n",
    "def random_color_gen(n):\n",
    "    return [tuple(random.randint(0,255) for i in range(3)) for i in range(n)]\n",
    "\n",
    "\n",
    "print(random_color_gen(len(pred_labels)))\n",
    "masked_img = draw_segmentation_masks(np_img.squeeze(0), masks, alpha=0.9, colors=random_color_gen(len(pred_labels)))"
   ]
  },
  {
   "cell_type": "code",
   "execution_count": null,
   "id": "53944504",
   "metadata": {},
   "outputs": [],
   "source": [
    "masked_img = T.ToPILImage()(masked_img)"
   ]
  },
  {
   "cell_type": "code",
   "execution_count": null,
   "id": "e19bfde2",
   "metadata": {},
   "outputs": [],
   "source": [
    "display(masked_img)"
   ]
  },
  {
   "cell_type": "code",
   "execution_count": null,
   "id": "2237f203",
   "metadata": {},
   "outputs": [],
   "source": [
    "person_mask = masks[8] > 0.5\n",
    "bg_removed = person_mask*input_tensor\n",
    "bg_removed_img = T.ToPILImage()(bg_removed.squeeze(0))\n",
    "display(bg_removed_img)"
   ]
  },
  {
   "cell_type": "markdown",
   "id": "5a616f3e",
   "metadata": {},
   "source": [
    "# Blurring the background"
   ]
  },
  {
   "cell_type": "code",
   "execution_count": null,
   "id": "b44962e6",
   "metadata": {},
   "outputs": [],
   "source": [
    "import math\n",
    "\n",
    "def get_gaussian_kernel(kernel_size=15, sigma=20, channels=3):\n",
    "    # Create a x, y coordinate grid of shape (kernel_size, kernel_size, 2)\n",
    "    x_coord = torch.arange(kernel_size)\n",
    "    x_grid = x_coord.repeat(kernel_size).view(kernel_size, kernel_size)\n",
    "    y_grid = x_grid.t()\n",
    "    xy_grid = torch.stack([x_grid, y_grid], dim=-1).float()\n",
    "\n",
    "    mean = (kernel_size - 1)/2.\n",
    "    variance = sigma**2.\n",
    "\n",
    "    # Calculate the 2-dimensional gaussian kernel which is\n",
    "    # the product of two gaussian distributions for two different\n",
    "    # variables (in this case called x and y)\n",
    "    gaussian_kernel = (1./(2.*math.pi*variance)) *\\\n",
    "                      torch.exp(\n",
    "                          -torch.sum((xy_grid - mean)**2., dim=-1) /\\\n",
    "                          (2*variance)\n",
    "                      )\n",
    "\n",
    "    # Make sure sum of values in gaussian kernel equals 1.\n",
    "    gaussian_kernel = gaussian_kernel / torch.sum(gaussian_kernel)\n",
    "\n",
    "    # Reshape to 2d depthwise convolutional weight\n",
    "    gaussian_kernel = gaussian_kernel.view(1, 1, kernel_size, kernel_size)\n",
    "    gaussian_kernel = gaussian_kernel.repeat(channels, 1, 1, 1)\n",
    "\n",
    "    gaussian_filter = nn.Conv2d(in_channels=channels, out_channels=channels,\n",
    "                                kernel_size=kernel_size, padding='same', groups=channels, bias=False)\n",
    "\n",
    "    gaussian_filter.weight.data = gaussian_kernel\n",
    "    gaussian_filter.weight.requires_grad = False\n",
    "    \n",
    "    return gaussian_filter\n",
    "\n",
    "blur = get_gaussian_kernel()\n",
    "blurred_tensor = blur(input_tensor)\n",
    "blurred_img = T.ToPILImage()(blurred_tensor.squeeze(0))\n",
    "\n",
    "display(blurred_img)"
   ]
  },
  {
   "cell_type": "code",
   "execution_count": null,
   "id": "38bb5538",
   "metadata": {},
   "outputs": [],
   "source": [
    "final_img = blurred_tensor\n",
    "final_img[:, :, person_mask.squeeze(0)] = bg_removed[:, :, person_mask.squeeze(0)];"
   ]
  },
  {
   "cell_type": "code",
   "execution_count": null,
   "id": "74f380fb",
   "metadata": {},
   "outputs": [],
   "source": [
    "final_img = T.ToPILImage()(final_img.squeeze(0))\n",
    "\n",
    "display(final_img)"
   ]
  },
  {
   "cell_type": "code",
   "execution_count": null,
   "id": "3864229c",
   "metadata": {},
   "outputs": [],
   "source": []
  }
 ],
 "metadata": {
  "kernelspec": {
   "display_name": "Python 3 (ipykernel)",
   "language": "python",
   "name": "python3"
  },
  "language_info": {
   "codemirror_mode": {
    "name": "ipython",
    "version": 3
   },
   "file_extension": ".py",
   "mimetype": "text/x-python",
   "name": "python",
   "nbconvert_exporter": "python",
   "pygments_lexer": "ipython3",
   "version": "3.10.4"
  }
 },
 "nbformat": 4,
 "nbformat_minor": 5
}
